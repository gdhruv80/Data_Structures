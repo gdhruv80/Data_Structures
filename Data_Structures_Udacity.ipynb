{
 "cells": [
  {
   "cell_type": "markdown",
   "metadata": {},
   "source": [
    "First Data Structure - Arrays "
   ]
  },
  {
   "cell_type": "code",
   "execution_count": 1,
   "metadata": {},
   "outputs": [
    {
     "name": "stdout",
     "output_type": "stream",
     "text": [
      "<type 'numpy.ndarray'>\n",
      "\n",
      "[1, 2, 3, 4, 5, 6, 1, 2]\n"
     ]
    },
    {
     "data": {
      "text/plain": [
       "6"
      ]
     },
     "execution_count": 1,
     "metadata": {},
     "output_type": "execute_result"
    }
   ],
   "source": [
    "import numpy as np\n",
    "import sys\n",
    "\n",
    "a  = np.array([1,2,3])\n",
    "b = np.array([1,2,4])\n",
    "c = np.append(a,b)                # Essentially creating a new array with complexity O(N) hence nd arrays are not a dynamic DS\n",
    "print type (c)\n",
    "\n",
    "\n",
    "# Snippet code\n",
    "#Create the 2D array up front, and fill the rows while looping:\n",
    "\n",
    "# my_array = numpy.empty((len(huge_list_of_lists), row_length))\n",
    "# for i, x in enumerate(huge_list_of_lists):\n",
    "#     my_array[i] = create_row(x)\n",
    "    \n",
    "ax =  np.delete(a, 0)      # Deleting items from the middle is slow in a array O(N) complexity while deleting last item has O(1)\n",
    "ax                         # complexity\n",
    "\n",
    "# Note - Arrays are a good data structure when you want to remove and add items to the end ! not the middle\n",
    "\n",
    "d = [1,2,3,4,5]       # List implemented as a Array in Python\n",
    "e = d                 # E points to the same object as D \n",
    "d.insert(0,4)  # O(n) complexity\n",
    "d.pop()   # O(1) complexity\n",
    "\n",
    "d.append([1,2])\n",
    "print \n",
    "\n",
    "e = [1,2,3,4,5,6]  # Now e is pointing to a new list\n",
    "f = [1,2]\n",
    "e.extend(f)    # Adds each element of f to e without looping through all elements of f (Its faster than looping too)\n",
    "print e\n",
    "\n",
    "\n",
    "# TIME COMPLEXITY FOR ALL LIST OPERATIONS - https://wiki.python.org/moin/TimeComplexity\n",
    "\n",
    "# One interesting thing - the append operation has a complexity of O(1) because lists are dynamic arrays where each time the \n",
    "# list grows beyond its initiall allocated memory new memory/space equal to the space before it is allocated.\n",
    "sys.getsizeof(e)\n",
    "\n",
    "\n",
    "# Time complexity for linear search O(n) - find max value\n",
    "\n",
    "maximum = 0           # This is a linear search you are going thorugh every element \n",
    "for i in e:\n",
    "    if i> maximum:\n",
    "        maximum = i\n",
    "maximum"
   ]
  },
  {
   "cell_type": "markdown",
   "metadata": {},
   "source": [
    "Second DS - LINKEDLIST\n",
    "\n"
   ]
  },
  {
   "cell_type": "code",
   "execution_count": 40,
   "metadata": {
    "collapsed": true
   },
   "outputs": [],
   "source": [
    "# Creating a Linkedlist and implementing insertion of element and size calc by traversal (O(n) complexity)\n",
    "\n",
    "class Node(object):                       # Inititate a node object\n",
    "    def __init__(self,data):\n",
    "        self.reference = None             # Interesting to see that the reference variable of each node is a node object itself\n",
    "        self.data = data\n",
    "\n",
    "class LinkedList(object):                 # Inititate a linkedlist which is made of many nodes\n",
    "    def __init__(self):\n",
    "        self.head = None\n",
    "        self.size = 0\n",
    "        \n",
    "        # O(1) complexity\n",
    "    def add_Node(self,data):\n",
    "        \n",
    "        new_node = Node(data)\n",
    "        self.size = self.size + 1\n",
    "        \n",
    "        if not self.head:\n",
    "            self.head = new_node\n",
    "        else:\n",
    "            new_node.reference = self.head   #Reference(Variable) is being set to a object !\n",
    "            self.head = new_node\n",
    "            \n",
    "    def give_size(self):\n",
    "        return self.size\n",
    "    \n",
    "    # O(n) complexity\n",
    "    def size_through_traverse(self):\n",
    "        size = 0\n",
    "        counter = self.head\n",
    "        while counter is not None:\n",
    "            size +=1\n",
    "            counter = counter.reference    # The last node will have reference as None and the while loop will stop execution\n",
    "        return size                        # while all other reference will point to the next node object\n",
    "    \n",
    "    # O(n) complexity \n",
    "    def insertEnd(self,data):\n",
    "        new_node = Node(data)\n",
    "        s = self.size\n",
    "        self.size = self.size + 1          # Use while loop its more short\n",
    "        elmt = self.head\n",
    "        for i in range(s-1):\n",
    "            elmt = elmt.reference\n",
    "        elmt.reference = new_node       \n",
    "        \n",
    "    def removeEnd(self):\n",
    "        self.size = self.size - 1\n",
    "        elmt = self.head\n",
    "        previous = None\n",
    "        while elmt.reference is not None:\n",
    "            previous = elmt\n",
    "            elmt = elmt.reference\n",
    "            \n",
    "        previous.reference = None\n",
    "        \n",
    "    \n",
    "    def print_nth_elmnts_data(self,n):     # Use while loop its more short\n",
    "        elmt = self.head\n",
    "        if n <=self.size:\n",
    "            for i in range(n-1):\n",
    "                elmt = elmt.reference\n",
    "            return elmt.data\n",
    "        else:\n",
    "            return 'Index greater than array size'\n",
    "        \n",
    "    def print_list(self):\n",
    "        elmt = self.head\n",
    "        \n",
    "        while elmt is not None:\n",
    "            print elmt.data\n",
    "            elmt = elmt.reference            \n",
    "\n",
    "            #O(n) complexity\n",
    "    def remove(self,data):\n",
    "        if self.head is None:\n",
    "            return\n",
    "        self.size = self.size - 1\n",
    "        \n",
    "        counter = self.head\n",
    "        previous = None                  # Previous is needed here as we want to link the previous nodes reference to current nodes reference\n",
    "        \n",
    "        while counter.data != data:      #Weird you cannot use 'is not' here it gives a error\n",
    "            previous = counter\n",
    "            counter = counter.reference\n",
    "            \n",
    "        if previous == None:             # Considering edge case when we want to remove the first node \n",
    "            self.head = counter.reference\n",
    "            counter.reference = None     # This is not really required !\n",
    "        else:\n",
    "            previous.reference = counter.reference\n",
    "            counter.reference = None"
   ]
  },
  {
   "cell_type": "markdown",
   "metadata": {},
   "source": [
    "OPERATIONS ON LINKED LIST"
   ]
  },
  {
   "cell_type": "code",
   "execution_count": 41,
   "metadata": {},
   "outputs": [
    {
     "name": "stdout",
     "output_type": "stream",
     "text": [
      "<__main__.Node object at 0x000000000601F630>\n",
      "10\n",
      "10\n",
      "Hi 9\n",
      "Hi 8\n",
      "None\n",
      "Hi 8\n",
      "Hi 7\n",
      "Hi 6\n",
      "Hi 5\n",
      "Hi 4\n",
      "Hi 3\n",
      "Hi 2\n",
      "Hi 1\n",
      "Hi 0\n"
     ]
    }
   ],
   "source": [
    "# Adding 10 elements to the LL\n",
    "L1 = LinkedList()\n",
    "for i in range(10):\n",
    "    L1.add_Node('Hi %d' %(i))\n",
    "\n",
    "    \n",
    "    \n",
    "print L1.head                  # Gives the address of the last object that was added in the List\n",
    "print L1.give_size()           # Both this and the one below give the same size of the LL\n",
    "print L1.size_through_traverse()\n",
    "\n",
    "print L1.head.data  # Getting data from the first node\n",
    "\n",
    "# Second nodes data \n",
    "print L1.head.reference.data   #Because the reference itself is a Node object hence we can use the chain rule here to fetch !\n",
    "\n",
    "# Note: All these are pointers ie when you say L1.head = New_Node that means that the variable head now points to the new node \n",
    "# object on the heap( only the pointers are moving no new copies of the object are created)\n",
    "\n",
    "\n",
    "L1.insertEnd('Hi 11')  # Adding a object to the end\n",
    "\n",
    "L1.print_nth_elmnts_data(11)  #Printing the data of the object just added to the end\n",
    "\n",
    "print L1.remove('Hi 9')   # if you put print in front of a function that dosent return anything it will print none\n",
    "\n",
    "# Removing the last value (pop operation)\n",
    "\n",
    "L1.removeEnd()\n",
    "\n",
    "# printing all the elements\n",
    "L1.print_list()"
   ]
  },
  {
   "cell_type": "markdown",
   "metadata": {},
   "source": [
    "ABSTRACT DATA TYPE - STACK "
   ]
  },
  {
   "cell_type": "code",
   "execution_count": 39,
   "metadata": {},
   "outputs": [
    {
     "data": {
      "text/plain": [
       "10"
      ]
     },
     "execution_count": 39,
     "metadata": {},
     "output_type": "execute_result"
    }
   ],
   "source": [
    "# Implementing using Arrays \n",
    "# Note : This can also be implemented using the LinkedList that I have created above - will have to add 2 simple methods though\n",
    "# one to remove the last element and return it (pop) and similarly peek method\n",
    "\n",
    "class Stack:\n",
    "    def __init__(self):\n",
    "        self.list = []\n",
    "    \n",
    "    def push(self,data):\n",
    "        self.list.append(data)\n",
    "        \n",
    "    def pop(self):           # Could have simply uses .pop()\n",
    "        last = self.list[-1]\n",
    "        del self.list[-1]\n",
    "        return last\n",
    "    \n",
    "    def peak(self):\n",
    "        return self.list[-1]\n",
    "    \n",
    "    def size(self):\n",
    "        return len(self.list)\n",
    "    \n",
    "s1 = Stack()\n",
    "for i in range(10):\n",
    "    s1.push('Hi %d' %(i))\n",
    "\n",
    "print s1.size()"
   ]
  },
  {
   "cell_type": "markdown",
   "metadata": {},
   "source": [
    "ABSTRACT DATA TYPE - QUEUE"
   ]
  },
  {
   "cell_type": "code",
   "execution_count": 46,
   "metadata": {},
   "outputs": [
    {
     "name": "stdout",
     "output_type": "stream",
     "text": [
      "Hello 0\n",
      "\n",
      "\n",
      "Hello 9\n",
      "Hello 8\n",
      "Hello 7\n",
      "Hello 6\n",
      "Hello 5\n",
      "Hello 4\n",
      "Hello 3\n",
      "Hello 2\n"
     ]
    }
   ],
   "source": [
    "# Implementing using the Linkedlist I created above\n",
    "\n",
    "class Queue:\n",
    "    def __init__(self):\n",
    "        self.queue = LinkedList()\n",
    "    \n",
    "    def size(self):\n",
    "        return self.queue.give_size()\n",
    "    \n",
    "    def is_empty(self):\n",
    "        return self.queue.give_size() == 0\n",
    "    \n",
    "    def enqueue(self,data):\n",
    "        self.queue.add_Node(data)\n",
    "        \n",
    "    def dequeue(self):\n",
    "        self.queue.removeEnd()\n",
    "    \n",
    "    def peak(self):\n",
    "        return self.queue.print_nth_elmnts_data(self.queue.give_size())\n",
    "\n",
    "# Creating a Queue object\n",
    "\n",
    "q1 = Queue()\n",
    "for i in range(10):\n",
    "    q1.enqueue('Hello %d' %(i))\n",
    "\n",
    "print q1.peak()\n",
    "print(\"\\n\")\n",
    "q1.dequeue()  # Removes the element that was first in from the Queue\n",
    "q1.dequeue()  \n",
    "q1.queue.print_list()  # We could have created a print method as well but anyways printing the queue after removing the first in \n",
    "                       # element"
   ]
  },
  {
   "cell_type": "markdown",
   "metadata": {},
   "source": [
    "BINARY SEARCH TREE - DATA STRUCTURE"
   ]
  },
  {
   "cell_type": "code",
   "execution_count": 112,
   "metadata": {},
   "outputs": [
    {
     "name": "stdout",
     "output_type": "stream",
     "text": [
      "8\n",
      "Removing a leaf Node\n",
      "None\n"
     ]
    }
   ],
   "source": [
    "class Node:\n",
    "    def __init__(self,data):\n",
    "        self.data = data\n",
    "        self.Lchild = None\n",
    "        self.Rchild = None\n",
    "    \n",
    "class BinarySearchTree():\n",
    "    def __init__(self):\n",
    "        self.root = None\n",
    "    \n",
    "    def add_element(self,data):\n",
    "        if not self.root:\n",
    "            self.root = Node(data)\n",
    "        else:\n",
    "            self.add_node(data,self.root)   # We cannot make add_node as a Static function here as we are doing a recursive call\n",
    "                                            # Its not possible to have a recursive call within a static function as there would \n",
    "    #@staticmethod                          # be no reference to the self keyword in a static funciton hence no way of calling the\n",
    "    def add_node(self,data,node):           # function again inside the body of the static function. \n",
    "        if data < node.data:\n",
    "            if node.Lchild:\n",
    "                self.add_node(data,node.Lchild)    \n",
    "            else: node.Lchild = Node(data)\n",
    "        \n",
    "        if data > node.data:\n",
    "            if node.Rchild:\n",
    "                self.add_node(data,node.Rchild)\n",
    "            else: node.Rchild = Node(data)\n",
    "       \n",
    "    \n",
    "    def get_max_min(self,value):\n",
    "        if not self.root:\n",
    "            return None\n",
    "        else:\n",
    "            return self.get_max_min_recursive(self.root,value)       # Interesting why we have created 2 functions here because \n",
    "                                                                     # the 2nd function needs to be called recursively within\n",
    "    def get_max_min_recursive(self,node,value):                      # the 2nd function hence we cannot do with one function\n",
    "        if value == 'max':\n",
    "            if node.Rchild:\n",
    "                return self.get_max_min_recursive(node.Rchild,value)\n",
    "            return node.data\n",
    "        else:\n",
    "            if node.Lchild:\n",
    "                return self.get_max_min_recursive(node.Lchild,value)\n",
    "            return node.data\n",
    "        \n",
    "    def traverse(self):\n",
    "        if self.root:\n",
    "            self.traverseInOrder(self.root)\n",
    "    \n",
    "    def traverseInOrder(self,node):\n",
    "        if node.Lchild:\n",
    "            self.traverseInOrder(node.Lchild)\n",
    "        print node.data\n",
    "        \n",
    "        if node.Rchild:\n",
    "            self.traverseInOrder(node.Rchild)   \n",
    "            \n",
    "    \n",
    "    def removeNode(self,data,node):\n",
    "        if not node:\n",
    "            return node        \n",
    "        if data<node.data:\n",
    "            node.Lchild = self.removeNode(data,node.Lchild)\n",
    "        elif data>node.data:\n",
    "            node.Rchild = self.reomveNode(data,node.Rchild)\n",
    "        else:\n",
    "            if not node.Lchild and not node.Rchild:\n",
    "                print (\"Removing a leaf Node\")\n",
    "                del node\n",
    "                return None\n",
    "            if not node.Lchild:\n",
    "                print (\"Removing a node with a right child\")\n",
    "                tempNode = node.Rchild\n",
    "                del node\n",
    "                return tempNode\n",
    "            elif not node.Rchild:\n",
    "                print (\"Removing a node with a left child\")\n",
    "                tempNode = node.Lchild\n",
    "                del node\n",
    "                return tempNode\n",
    "            \n",
    "            print (\"Removing node with 2 children\")\n",
    "            tempNode = self.getPred(node.Lchild)\n",
    "            node.data = tempnNode.data\n",
    "            node.Lchild = self.removeNode(tempNode.data,node.Lchild)\n",
    "            \n",
    "    def getPred(self,node):\n",
    "        if node.Rchild:\n",
    "            return self.getPred(node.Rchild)\n",
    "        return node\n",
    "    \n",
    "    def remove(self,data):\n",
    "        if self.root:\n",
    "            self.root = self.removeNode(data, self.root)\n",
    "         \n",
    "\n",
    "T1 = BinarySearchTree()\n",
    "T1.add_element(10)\n",
    "T1.add_element(12)        \n",
    "T1.add_element(14)  \n",
    "T1.add_element(8) \n",
    "\n",
    "print T1.get_max_min('min')\n",
    "T1.remove(8)\n",
    "print T1.traverse()\n",
    "\n"
   ]
  },
  {
   "cell_type": "code",
   "execution_count": 182,
   "metadata": {},
   "outputs": [
    {
     "name": "stdout",
     "output_type": "stream",
     "text": [
      "(array([], dtype=int64),)\n"
     ]
    },
    {
     "name": "stderr",
     "output_type": "stream",
     "text": [
      "C:\\Users\\dhrugarg\\AppData\\Local\\Continuum\\anaconda2\\lib\\site-packages\\ipykernel_launcher.py:16: FutureWarning: elementwise comparison failed; returning scalar instead, but in the future will perform elementwise comparison\n",
      "  app.launch_new_instance()\n"
     ]
    }
   ],
   "source": [
    "import pandas as pd\n",
    "import numpy as np\n",
    "a = pd.DataFrame({'a':['1','1','1'],'b':[4.3444333,5,6.4]})\n",
    "a\n",
    "a.loc[a['a']=='1', 'a']   = np.nan\n",
    "#a  = np.nan\n",
    "a\n",
    "c = pd.Series(['1','1','1'])\n",
    "c.iloc[:] = np.nan\n",
    "c\n",
    "\n",
    "a['b'] = a['b'].round(2)\n",
    "a\n",
    "a[['b']] = a['b'].apply(round,args = (1,))\n",
    "a\n",
    "print np.where(a['b'] == '4.3')\n"
   ]
  }
 ],
 "metadata": {
  "kernelspec": {
   "display_name": "Python 2",
   "language": "python",
   "name": "python2"
  },
  "language_info": {
   "codemirror_mode": {
    "name": "ipython",
    "version": 2
   },
   "file_extension": ".py",
   "mimetype": "text/x-python",
   "name": "python",
   "nbconvert_exporter": "python",
   "pygments_lexer": "ipython2",
   "version": "2.7.14"
  }
 },
 "nbformat": 4,
 "nbformat_minor": 1
}
